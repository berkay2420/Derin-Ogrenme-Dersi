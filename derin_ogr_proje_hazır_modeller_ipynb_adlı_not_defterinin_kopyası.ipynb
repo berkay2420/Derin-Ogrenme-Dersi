{
  "cells": [
    {
      "cell_type": "markdown",
      "metadata": {
        "id": "xb1TX6lkUrrW"
      },
      "source": [
        "# Data"
      ]
    },
    {
      "cell_type": "code",
      "execution_count": null,
      "metadata": {
        "colab": {
          "base_uri": "https://localhost:8080/"
        },
        "id": "SlZ6Vh0BURSy",
        "outputId": "38ccebbf-0882-42c5-a5fc-76a0bfee3b63"
      },
      "outputs": [
        {
          "output_type": "stream",
          "name": "stdout",
          "text": [
            "Drive already mounted at /content/drive; to attempt to forcibly remount, call drive.mount(\"/content/drive\", force_remount=True).\n"
          ]
        }
      ],
      "source": [
        "import os\n",
        "import pandas as pd\n",
        "import numpy as np\n",
        "import matplotlib.pyplot as plt\n",
        "import seaborn as sns\n",
        "from google.colab import drive\n",
        "drive.mount('/content/drive')"
      ]
    },
    {
      "cell_type": "code",
      "execution_count": null,
      "metadata": {
        "id": "v8ltS-6pUZaM"
      },
      "outputs": [],
      "source": [
        "IMG_SIZE = 224\n",
        "seed = 42\n",
        "\n",
        "NUM_CLASSES = 4\n",
        "BATCH_SIZE = 32\n",
        "EPOCHS = 20\n",
        "\n",
        "CLASSES = [\"Blight\", \"Common_Rust\", \"Gray_Leaf_Spot\", \"Healthy\"]"
      ]
    },
    {
      "cell_type": "code",
      "execution_count": null,
      "metadata": {
        "id": "bOwNbZRlUchN"
      },
      "outputs": [],
      "source": [
        "from zipfile import ZipFile\n",
        "\n",
        "data_zip = '/content/drive/My Drive/Corn Disease.zip'\n",
        "\n",
        "with ZipFile(data_zip, 'r') as zObject:\n",
        "  data = zObject.extractall()\n",
        "\n",
        "DATA_PATH = '/content/data/'"
      ]
    },
    {
      "cell_type": "code",
      "execution_count": null,
      "metadata": {
        "id": "IjzvLg98Ueft"
      },
      "outputs": [],
      "source": [
        "import cv2\n",
        "\n",
        "main_data = []\n",
        "training_data = []\n",
        "test_data = []\n",
        "validation_data = []\n",
        "\n",
        "\n",
        "def creating_main_data_array():\n",
        "  for class_name in CLASSES:\n",
        "    path = os.path.join(DATA_PATH, class_name)\n",
        "    print(path)\n",
        "    class_num = CLASSES.index(class_name)\n",
        "\n",
        "    for img in os.listdir(path):\n",
        "      try:\n",
        "        img_array = cv2.imread(os.path.join(path, img))\n",
        "        new_array = cv2.resize(img_array, (IMG_SIZE, IMG_SIZE))\n",
        "        main_data.append([new_array, class_num])\n",
        "      except Exception as e:\n",
        "        print(e)"
      ]
    },
    {
      "cell_type": "code",
      "execution_count": null,
      "metadata": {
        "colab": {
          "base_uri": "https://localhost:8080/"
        },
        "id": "fPGd6CrfUf_r",
        "outputId": "25263c88-0123-45f8-ec3a-57de985f3970"
      },
      "outputs": [
        {
          "output_type": "stream",
          "name": "stdout",
          "text": [
            "/content/data/Blight\n",
            "/content/data/Common_Rust\n",
            "/content/data/Gray_Leaf_Spot\n",
            "/content/data/Healthy\n",
            "4188\n"
          ]
        }
      ],
      "source": [
        "creating_main_data_array()\n",
        "print(len(main_data))"
      ]
    },
    {
      "cell_type": "code",
      "execution_count": null,
      "metadata": {
        "colab": {
          "base_uri": "https://localhost:8080/"
        },
        "id": "NiHRX1OYUhkt",
        "outputId": "72d8197d-5d2b-4834-8994-622660b420b7"
      },
      "outputs": [
        {
          "output_type": "stream",
          "name": "stdout",
          "text": [
            "Training Lenght: 3015\n",
            "Rest Lenght: 838\n",
            "Validataion Lenght: 335\n"
          ]
        }
      ],
      "source": [
        "import random\n",
        "\n",
        "random.seed(789)\n",
        "random.shuffle(main_data)\n",
        "\n",
        "#%80 Train, %20 Test\n",
        "split_1 = int(0.8 * len(main_data))\n",
        "split_2 = int(0.2 * len(main_data))\n",
        "\n",
        "training_data = main_data[:split_1]\n",
        "test_data = main_data[split_1:]\n",
        "\n",
        "split_3 = int(0.1 * len(training_data))\n",
        "random.shuffle(training_data)\n",
        "validation_data = training_data[:split_3]\n",
        "training_data = training_data[split_3:]\n",
        "\n",
        "print(\"Training Lenght:\", len(training_data))\n",
        "print(\"Rest Lenght:\", len(test_data))\n",
        "print(\"Validataion Lenght:\", len(validation_data))"
      ]
    },
    {
      "cell_type": "code",
      "execution_count": null,
      "metadata": {
        "id": "8AXnvzmCUjIl"
      },
      "outputs": [],
      "source": [
        "X_training_data = []\n",
        "y_training_data = []\n",
        "\n",
        "\n",
        "for classes, label in training_data:\n",
        "  X_training_data.append(classes)\n",
        "  y_training_data.append(label)"
      ]
    },
    {
      "cell_type": "code",
      "execution_count": null,
      "metadata": {
        "id": "HZRU8HA8Ukbp"
      },
      "outputs": [],
      "source": [
        "X_test_data = []\n",
        "y_test_data = []\n",
        "\n",
        "for classes, label in test_data:\n",
        "  X_test_data.append(classes)\n",
        "  y_test_data.append(label)"
      ]
    },
    {
      "cell_type": "code",
      "execution_count": null,
      "metadata": {
        "id": "1wIeilpLUlwN"
      },
      "outputs": [],
      "source": [
        "X_validation_data = []\n",
        "y_validation_data = []\n",
        "\n",
        "for classes, label in validation_data:\n",
        "  X_validation_data.append(classes)\n",
        "  y_validation_data.append(label)"
      ]
    },
    {
      "cell_type": "code",
      "execution_count": null,
      "metadata": {
        "id": "5Uc_9lWkUnId"
      },
      "outputs": [],
      "source": [
        "x_train = np.array(X_training_data)\n",
        "x_test = np.array(X_test_data)\n",
        "\n",
        "y_train = np.array(y_training_data)\n",
        "y_test = np.array(y_test_data)\n",
        "\n",
        "x_val = np.array(X_validation_data)\n",
        "y_val = np.array(y_validation_data)"
      ]
    },
    {
      "cell_type": "code",
      "execution_count": null,
      "metadata": {
        "colab": {
          "base_uri": "https://localhost:8080/"
        },
        "id": "5S0yVJVqUoR9",
        "outputId": "287989d7-38c6-4be0-a583-5ecfa7dd82f3"
      },
      "outputs": [
        {
          "output_type": "stream",
          "name": "stdout",
          "text": [
            "X_train shape: (3015, 224, 224, 3)\n",
            "y_train shape: (3015,)\n",
            "X_test shape: (838, 224, 224, 3)\n",
            "y_test shape: (838,)\n",
            "X_validation shape: (335, 224, 224, 3)\n",
            "y_validation shape: (335,)\n"
          ]
        }
      ],
      "source": [
        "print(\"X_train shape:\", x_train.shape)\n",
        "print(\"y_train shape:\", y_train.shape)\n",
        "print(\"X_test shape:\", x_test.shape)\n",
        "print(\"y_test shape:\", y_test.shape)\n",
        "print(\"X_validation shape:\", x_val.shape)\n",
        "print(\"y_validation shape:\", y_val.shape)"
      ]
    },
    {
      "cell_type": "code",
      "execution_count": null,
      "metadata": {
        "id": "KlW2jewgUqVN"
      },
      "outputs": [],
      "source": [
        "x_train = x_train.astype('float32')\n",
        "x_train /= 255\n",
        "\n",
        "x_test = x_test.astype('float32')\n",
        "x_test /= 255\n",
        "\n",
        "x_val = x_val.astype('float32')\n",
        "x_val /= 255"
      ]
    },
    {
      "cell_type": "code",
      "execution_count": null,
      "metadata": {
        "id": "gVHz10WPX7f9"
      },
      "outputs": [],
      "source": [
        "import tensorflow as tf\n",
        "\n",
        "y_train = tf.keras.utils.to_categorical(y_train, num_classes=NUM_CLASSES)\n",
        "y_test = tf.keras.utils.to_categorical(y_test, num_classes=NUM_CLASSES)\n",
        "y_val = tf.keras.utils.to_categorical(y_val, num_classes=NUM_CLASSES)"
      ]
    },
    {
      "cell_type": "markdown",
      "source": [
        "# Değerlendirme Metriklerinin Fonksiyonlaştırılması"
      ],
      "metadata": {
        "id": "gMO8c9atfDrZ"
      }
    },
    {
      "cell_type": "code",
      "execution_count": null,
      "metadata": {
        "id": "Lr5rmMu6bElN"
      },
      "outputs": [],
      "source": [
        "from sklearn.metrics import accuracy_score, f1_score, roc_auc_score, confusion_matrix, classification_report, roc_curve, auc, balanced_accuracy_score, matthews_corrcoef, recall_score\n",
        "from sklearn.preprocessing import label_binarize\n",
        "\n",
        "def get_classification_report(model,x_train, y_train):\n",
        "  y_test_pred = model.predict(x_test)\n",
        "  y_test_pred_classes = np.argmax(y_test_pred, axis=1)\n",
        "  y_test_classes = np.argmax(y_test, axis=1)\n",
        "\n",
        "  report = classification_report(y_test_classes, y_test_pred_classes, target_names=CLASSES)\n",
        "\n",
        "  print(f\"Classification Report for model:\\n {report}\")\n",
        "\n",
        "def get_confisuon_matrix(model, x_train, y_train):\n",
        "  y_test_pred = model.predict(x_test)\n",
        "  y_test_pred_classes = y_test_pred.argmax(axis=1)\n",
        "  y_test_true_classes = y_test.argmax(axis=1)\n",
        "\n",
        "  cm = confusion_matrix(y_test_true_classes, y_test_pred_classes)\n",
        "  print(f\"Confusion Matrix for model: \\n{cm}\")\n",
        "\n",
        "  plt.figure(figsize=(10, 7))\n",
        "  sns.heatmap(cm, annot=True, fmt='d', cmap='Blues', xticklabels=CLASSES, yticklabels=CLASSES)\n",
        "  plt.title(\"Confusion Matrix (Karmaşıklık Matrisi)\")\n",
        "  plt.xlabel(\"Predicted Labels\")\n",
        "  plt.ylabel(\"Real (True) Labels\")\n",
        "  plt.show()\n",
        "\n",
        "def get_MCC(model, x_train, y_train):\n",
        "  y_test_pred = model.predict(x_test)\n",
        "  y_test_pred_classes = y_test_pred.argmax(axis=1)\n",
        "  y_test_classes = y_test.argmax(axis=1)\n",
        "\n",
        "  mcc = matthews_corrcoef(y_test_classes, y_test_pred_classes)\n",
        "\n",
        "  print(f\"Matthews Correlation Coefficient (MCC) for model: {mcc}\")\n",
        "\n",
        "def get_balanced_acc(model, x_train, y_train):\n",
        "  y_test_pred = model.predict(x_test)\n",
        "  y_test_pred_classes = y_test_pred.argmax(axis=1)\n",
        "  y_test_classes = y_test.argmax(axis=1)\n",
        "\n",
        "  balanced_acc = balanced_accuracy_score(y_test_classes, y_test_pred_classes)\n",
        "\n",
        "  print(f\"Balanced Accuracy for model: {balanced_acc}\")\n",
        "\n",
        "def get_roc_auc(model, x_train, y_train):\n",
        "  y_test_classes = np.argmax(y_test, axis=1)\n",
        "  y_pred_prob = model.predict(x_test)\n",
        "  y_test_binarized = label_binarize(y_test_classes, classes=[0,1,2,3])\n",
        "  roc_auc_multi = roc_auc_score(y_test_binarized, y_pred_prob, multi_class='ovr')\n",
        "  print(f\"ROC AUC Score (Multi-class) for model: {roc_auc_multi}\")\n",
        "\n",
        "\n"
      ]
    },
    {
      "cell_type": "markdown",
      "metadata": {
        "id": "u1E6m8WXVgCB"
      },
      "source": [
        "# DenseNet Transfer Learning"
      ]
    },
    {
      "cell_type": "code",
      "execution_count": null,
      "metadata": {
        "collapsed": true,
        "id": "AlpOYW4xVDnR",
        "colab": {
          "base_uri": "https://localhost:8080/"
        },
        "outputId": "f4d1e82e-f1c8-4b10-a816-c42df3acf045"
      },
      "outputs": [
        {
          "output_type": "stream",
          "name": "stdout",
          "text": [
            "Downloading data from https://storage.googleapis.com/tensorflow/keras-applications/densenet/densenet121_weights_tf_dim_ordering_tf_kernels_notop.h5\n",
            "\u001b[1m29084464/29084464\u001b[0m \u001b[32m━━━━━━━━━━━━━━━━━━━━\u001b[0m\u001b[37m\u001b[0m \u001b[1m0s\u001b[0m 0us/step\n"
          ]
        }
      ],
      "source": [
        "from tensorflow.keras.applications import DenseNet121\n",
        "from tensorflow.keras import models, layers\n",
        "from tensorflow.keras.layers import  Flatten, Dense\n",
        "\n",
        "#Görüntülerin giriş boyutları\n",
        "input_layer = layers.Input(shape=(IMG_SIZE,IMG_SIZE, 3))\n",
        "\n",
        "model_DenseNet121 = DenseNet121(weights='imagenet',\n",
        "                              input_tensor=input_layer,\n",
        "                              include_top=False)\n",
        "\n",
        "last_layer = model_DenseNet121.output\n",
        "flatten = layers.Flatten()(last_layer)\n",
        "output_layer = layers.Dense(NUM_CLASSES, activation='softmax')(flatten)\n",
        "\n",
        "model_resnet50V2 = models.Model(inputs=input_layer, outputs=output_layer)\n"
      ]
    },
    {
      "cell_type": "code",
      "execution_count": null,
      "metadata": {
        "id": "OF7uvlMUWxmF"
      },
      "outputs": [],
      "source": [
        "for layer in model_DenseNet121.layers[:1]:\n",
        "  layer.trainable = False\n",
        "\n",
        "# Freeze the first layer of the ResNet50V2 model to retain pre-trained features\n",
        "# and prevent its weights from being updated during training."
      ]
    },
    {
      "cell_type": "code",
      "execution_count": null,
      "metadata": {
        "id": "IHOfsgw-Wzlg"
      },
      "outputs": [],
      "source": [
        "model_DenseNet121.compile(optimizer='adam', loss='categorical_crossentropy', metrics=['accuracy'])"
      ]
    },
    {
      "cell_type": "code",
      "execution_count": null,
      "metadata": {
        "id": "E0IrAddnW0qd"
      },
      "outputs": [],
      "source": [
        "from tensorflow import keras\n",
        "\n",
        "callback_list = [\n",
        "    #Saving the best model based on validation\n",
        "    keras.callbacks.ModelCheckpoint(\n",
        "        filepath = 'best_model.keras',\n",
        "        monitor = 'val_loss',\n",
        "        save_best_only = True,\n",
        "        verbose = 1\n",
        "    ),\n",
        "    #EarlyStopping stops training if the validation loss\n",
        "    #does not improve for a specified number of epochs (patience),\n",
        "    #preventing overfitting and saving time.\n",
        "    keras.callbacks.EarlyStopping(\n",
        "        monitor='val_loss',\n",
        "        patience=5,\n",
        "        verbose=1\n",
        "    )\n",
        "]"
      ]
    },
    {
      "cell_type": "code",
      "execution_count": null,
      "metadata": {
        "colab": {
          "base_uri": "https://localhost:8080/",
          "height": 408
        },
        "id": "NXvRETrbW5xA",
        "outputId": "406ca086-1014-442f-fed2-a6b8898085f9"
      },
      "outputs": [
        {
          "output_type": "stream",
          "name": "stdout",
          "text": [
            "Epoch 1/10\n"
          ]
        },
        {
          "output_type": "error",
          "ename": "ValueError",
          "evalue": "Arguments `target` and `output` must have the same rank (ndim). Received: target.shape=(None, 4), output.shape=(None, 7, 7, 1024)",
          "traceback": [
            "\u001b[0;31m---------------------------------------------------------------------------\u001b[0m",
            "\u001b[0;31mValueError\u001b[0m                                Traceback (most recent call last)",
            "\u001b[0;32m<ipython-input-32-de7bb457dc3d>\u001b[0m in \u001b[0;36m<cell line: 1>\u001b[0;34m()\u001b[0m\n\u001b[0;32m----> 1\u001b[0;31m history_DenseNet121 = model_DenseNet121.fit(x_train, y_train,\n\u001b[0m\u001b[1;32m      2\u001b[0m                     \u001b[0mbatch_size\u001b[0m \u001b[0;34m=\u001b[0m \u001b[0mBATCH_SIZE\u001b[0m\u001b[0;34m,\u001b[0m\u001b[0;34m\u001b[0m\u001b[0;34m\u001b[0m\u001b[0m\n\u001b[1;32m      3\u001b[0m                     \u001b[0mvalidation_data\u001b[0m \u001b[0;34m=\u001b[0m \u001b[0;34m(\u001b[0m\u001b[0mx_val\u001b[0m\u001b[0;34m,\u001b[0m \u001b[0my_val\u001b[0m\u001b[0;34m)\u001b[0m\u001b[0;34m,\u001b[0m\u001b[0;34m\u001b[0m\u001b[0;34m\u001b[0m\u001b[0m\n\u001b[1;32m      4\u001b[0m                     \u001b[0mcallbacks\u001b[0m \u001b[0;34m=\u001b[0m \u001b[0mcallback_list\u001b[0m\u001b[0;34m,\u001b[0m\u001b[0;34m\u001b[0m\u001b[0;34m\u001b[0m\u001b[0m\n\u001b[1;32m      5\u001b[0m                     \u001b[0mepochs\u001b[0m \u001b[0;34m=\u001b[0m \u001b[0mEPOCHS\u001b[0m\u001b[0;34m\u001b[0m\u001b[0;34m\u001b[0m\u001b[0m\n",
            "\u001b[0;32m/usr/local/lib/python3.10/dist-packages/keras/src/utils/traceback_utils.py\u001b[0m in \u001b[0;36merror_handler\u001b[0;34m(*args, **kwargs)\u001b[0m\n\u001b[1;32m    120\u001b[0m             \u001b[0;31m# To get the full stack trace, call:\u001b[0m\u001b[0;34m\u001b[0m\u001b[0;34m\u001b[0m\u001b[0m\n\u001b[1;32m    121\u001b[0m             \u001b[0;31m# `keras.config.disable_traceback_filtering()`\u001b[0m\u001b[0;34m\u001b[0m\u001b[0;34m\u001b[0m\u001b[0m\n\u001b[0;32m--> 122\u001b[0;31m             \u001b[0;32mraise\u001b[0m \u001b[0me\u001b[0m\u001b[0;34m.\u001b[0m\u001b[0mwith_traceback\u001b[0m\u001b[0;34m(\u001b[0m\u001b[0mfiltered_tb\u001b[0m\u001b[0;34m)\u001b[0m \u001b[0;32mfrom\u001b[0m \u001b[0;32mNone\u001b[0m\u001b[0;34m\u001b[0m\u001b[0;34m\u001b[0m\u001b[0m\n\u001b[0m\u001b[1;32m    123\u001b[0m         \u001b[0;32mfinally\u001b[0m\u001b[0;34m:\u001b[0m\u001b[0;34m\u001b[0m\u001b[0;34m\u001b[0m\u001b[0m\n\u001b[1;32m    124\u001b[0m             \u001b[0;32mdel\u001b[0m \u001b[0mfiltered_tb\u001b[0m\u001b[0;34m\u001b[0m\u001b[0;34m\u001b[0m\u001b[0m\n",
            "\u001b[0;32m/usr/local/lib/python3.10/dist-packages/keras/src/backend/tensorflow/nn.py\u001b[0m in \u001b[0;36mcategorical_crossentropy\u001b[0;34m(target, output, from_logits, axis)\u001b[0m\n\u001b[1;32m    578\u001b[0m         )\n\u001b[1;32m    579\u001b[0m     \u001b[0;32mif\u001b[0m \u001b[0mlen\u001b[0m\u001b[0;34m(\u001b[0m\u001b[0mtarget\u001b[0m\u001b[0;34m.\u001b[0m\u001b[0mshape\u001b[0m\u001b[0;34m)\u001b[0m \u001b[0;34m!=\u001b[0m \u001b[0mlen\u001b[0m\u001b[0;34m(\u001b[0m\u001b[0moutput\u001b[0m\u001b[0;34m.\u001b[0m\u001b[0mshape\u001b[0m\u001b[0;34m)\u001b[0m\u001b[0;34m:\u001b[0m\u001b[0;34m\u001b[0m\u001b[0;34m\u001b[0m\u001b[0m\n\u001b[0;32m--> 580\u001b[0;31m         raise ValueError(\n\u001b[0m\u001b[1;32m    581\u001b[0m             \u001b[0;34m\"Arguments `target` and `output` must have the same rank \"\u001b[0m\u001b[0;34m\u001b[0m\u001b[0;34m\u001b[0m\u001b[0m\n\u001b[1;32m    582\u001b[0m             \u001b[0;34m\"(ndim). Received: \"\u001b[0m\u001b[0;34m\u001b[0m\u001b[0;34m\u001b[0m\u001b[0m\n",
            "\u001b[0;31mValueError\u001b[0m: Arguments `target` and `output` must have the same rank (ndim). Received: target.shape=(None, 4), output.shape=(None, 7, 7, 1024)"
          ]
        }
      ],
      "source": [
        "history_DenseNet121 = model_DenseNet121.fit(x_train, y_train,\n",
        "                    batch_size = BATCH_SIZE,\n",
        "                    validation_data = (x_val, y_val),\n",
        "                    callbacks = callback_list,\n",
        "                    epochs = EPOCHS\n",
        "                    )"
      ]
    },
    {
      "cell_type": "markdown",
      "metadata": {
        "id": "How5w7LEXG2s"
      },
      "source": [
        "# InceptionV3 Transfer Learning"
      ]
    },
    {
      "cell_type": "code",
      "execution_count": null,
      "metadata": {
        "colab": {
          "base_uri": "https://localhost:8080/"
        },
        "id": "P0ShuPWtXF6v",
        "outputId": "81da4172-1a30-4467-ecb4-af32d9e9b9e6"
      },
      "outputs": [
        {
          "output_type": "stream",
          "name": "stdout",
          "text": [
            "Downloading data from https://storage.googleapis.com/tensorflow/keras-applications/inception_v3/inception_v3_weights_tf_dim_ordering_tf_kernels_notop.h5\n",
            "\u001b[1m87910968/87910968\u001b[0m \u001b[32m━━━━━━━━━━━━━━━━━━━━\u001b[0m\u001b[37m\u001b[0m \u001b[1m0s\u001b[0m 0us/step\n",
            "Epoch 1/10\n",
            "\u001b[1m189/189\u001b[0m \u001b[32m━━━━━━━━━━━━━━━━━━━━\u001b[0m\u001b[37m\u001b[0m \u001b[1m0s\u001b[0m 324ms/step - accuracy: 0.7253 - loss: 1.6292\n",
            "Epoch 1: val_loss improved from inf to 9745.90039, saving model to best_model.keras\n",
            "\u001b[1m189/189\u001b[0m \u001b[32m━━━━━━━━━━━━━━━━━━━━\u001b[0m\u001b[37m\u001b[0m \u001b[1m156s\u001b[0m 416ms/step - accuracy: 0.7255 - loss: 1.6285 - val_accuracy: 0.3254 - val_loss: 9745.9004\n",
            "Epoch 2/10\n",
            "\u001b[1m189/189\u001b[0m \u001b[32m━━━━━━━━━━━━━━━━━━━━\u001b[0m\u001b[37m\u001b[0m \u001b[1m0s\u001b[0m 122ms/step - accuracy: 0.7575 - loss: 1.3751\n",
            "Epoch 2: val_loss improved from 9745.90039 to 0.39546, saving model to best_model.keras\n",
            "\u001b[1m189/189\u001b[0m \u001b[32m━━━━━━━━━━━━━━━━━━━━\u001b[0m\u001b[37m\u001b[0m \u001b[1m31s\u001b[0m 162ms/step - accuracy: 0.7577 - loss: 1.3729 - val_accuracy: 0.8269 - val_loss: 0.3955\n",
            "Epoch 3/10\n",
            "\u001b[1m189/189\u001b[0m \u001b[32m━━━━━━━━━━━━━━━━━━━━\u001b[0m\u001b[37m\u001b[0m \u001b[1m0s\u001b[0m 123ms/step - accuracy: 0.8405 - loss: 1.0594\n",
            "Epoch 3: val_loss improved from 0.39546 to 0.38065, saving model to best_model.keras\n",
            "\u001b[1m189/189\u001b[0m \u001b[32m━━━━━━━━━━━━━━━━━━━━\u001b[0m\u001b[37m\u001b[0m \u001b[1m43s\u001b[0m 173ms/step - accuracy: 0.8406 - loss: 1.0574 - val_accuracy: 0.8448 - val_loss: 0.3807\n",
            "Epoch 4/10\n",
            "\u001b[1m189/189\u001b[0m \u001b[32m━━━━━━━━━━━━━━━━━━━━\u001b[0m\u001b[37m\u001b[0m \u001b[1m0s\u001b[0m 121ms/step - accuracy: 0.8535 - loss: 0.7098\n",
            "Epoch 4: val_loss did not improve from 0.38065\n",
            "\u001b[1m189/189\u001b[0m \u001b[32m━━━━━━━━━━━━━━━━━━━━\u001b[0m\u001b[37m\u001b[0m \u001b[1m32s\u001b[0m 126ms/step - accuracy: 0.8535 - loss: 0.7087 - val_accuracy: 0.8299 - val_loss: 0.4752\n",
            "Epoch 5/10\n",
            "\u001b[1m189/189\u001b[0m \u001b[32m━━━━━━━━━━━━━━━━━━━━\u001b[0m\u001b[37m\u001b[0m \u001b[1m0s\u001b[0m 123ms/step - accuracy: 0.8745 - loss: 0.3529\n",
            "Epoch 5: val_loss improved from 0.38065 to 0.25026, saving model to best_model.keras\n",
            "\u001b[1m189/189\u001b[0m \u001b[32m━━━━━━━━━━━━━━━━━━━━\u001b[0m\u001b[37m\u001b[0m \u001b[1m45s\u001b[0m 146ms/step - accuracy: 0.8745 - loss: 0.3532 - val_accuracy: 0.9015 - val_loss: 0.2503\n",
            "Epoch 6/10\n",
            "\u001b[1m189/189\u001b[0m \u001b[32m━━━━━━━━━━━━━━━━━━━━\u001b[0m\u001b[37m\u001b[0m \u001b[1m0s\u001b[0m 127ms/step - accuracy: 0.8974 - loss: 0.3373\n",
            "Epoch 6: val_loss did not improve from 0.25026\n",
            "\u001b[1m189/189\u001b[0m \u001b[32m━━━━━━━━━━━━━━━━━━━━\u001b[0m\u001b[37m\u001b[0m \u001b[1m39s\u001b[0m 134ms/step - accuracy: 0.8974 - loss: 0.3374 - val_accuracy: 0.8955 - val_loss: 0.2683\n",
            "Epoch 7/10\n",
            "\u001b[1m189/189\u001b[0m \u001b[32m━━━━━━━━━━━━━━━━━━━━\u001b[0m\u001b[37m\u001b[0m \u001b[1m0s\u001b[0m 126ms/step - accuracy: 0.8783 - loss: 0.5584\n",
            "Epoch 7: val_loss improved from 0.25026 to 0.22722, saving model to best_model.keras\n",
            "\u001b[1m189/189\u001b[0m \u001b[32m━━━━━━━━━━━━━━━━━━━━\u001b[0m\u001b[37m\u001b[0m \u001b[1m43s\u001b[0m 143ms/step - accuracy: 0.8784 - loss: 0.5577 - val_accuracy: 0.9164 - val_loss: 0.2272\n",
            "Epoch 8/10\n",
            "\u001b[1m189/189\u001b[0m \u001b[32m━━━━━━━━━━━━━━━━━━━━\u001b[0m\u001b[37m\u001b[0m \u001b[1m0s\u001b[0m 126ms/step - accuracy: 0.9036 - loss: 0.2205\n",
            "Epoch 8: val_loss did not improve from 0.22722\n",
            "\u001b[1m189/189\u001b[0m \u001b[32m━━━━━━━━━━━━━━━━━━━━\u001b[0m\u001b[37m\u001b[0m \u001b[1m39s\u001b[0m 133ms/step - accuracy: 0.9036 - loss: 0.2206 - val_accuracy: 0.8955 - val_loss: 0.2334\n",
            "Epoch 9/10\n",
            "\u001b[1m189/189\u001b[0m \u001b[32m━━━━━━━━━━━━━━━━━━━━\u001b[0m\u001b[37m\u001b[0m \u001b[1m0s\u001b[0m 125ms/step - accuracy: 0.9210 - loss: 0.2042\n",
            "Epoch 9: val_loss improved from 0.22722 to 0.21565, saving model to best_model.keras\n",
            "\u001b[1m189/189\u001b[0m \u001b[32m━━━━━━━━━━━━━━━━━━━━\u001b[0m\u001b[37m\u001b[0m \u001b[1m45s\u001b[0m 155ms/step - accuracy: 0.9210 - loss: 0.2044 - val_accuracy: 0.9194 - val_loss: 0.2157\n",
            "Epoch 10/10\n",
            "\u001b[1m189/189\u001b[0m \u001b[32m━━━━━━━━━━━━━━━━━━━━\u001b[0m\u001b[37m\u001b[0m \u001b[1m0s\u001b[0m 140ms/step - accuracy: 0.9180 - loss: 0.2455\n",
            "Epoch 10: val_loss did not improve from 0.21565\n",
            "\u001b[1m189/189\u001b[0m \u001b[32m━━━━━━━━━━━━━━━━━━━━\u001b[0m\u001b[37m\u001b[0m \u001b[1m39s\u001b[0m 146ms/step - accuracy: 0.9179 - loss: 0.2455 - val_accuracy: 0.9134 - val_loss: 0.2330\n"
          ]
        }
      ],
      "source": [
        "from tensorflow.keras.applications import InceptionV3\n",
        "from tensorflow.keras import models, layers\n",
        "from tensorflow.keras.layers import  Flatten, Dense\n",
        "from tensorflow.keras.optimizers import Adam\n",
        "\n",
        "\n",
        "BATCH_SIZE = 16\n",
        "EPOCHS=10\n",
        "\n",
        "input_layer = layers.Input(shape=(IMG_SIZE,IMG_SIZE, 3))\n",
        "\n",
        "model_InceptionV3 = InceptionV3(weights='imagenet',\n",
        "                                      input_tensor=input_layer,\n",
        "                                      include_top=False\n",
        "                                      )\n",
        "\n",
        "last_layer = model_InceptionV3.output\n",
        "flatten = layers.Flatten()(last_layer)\n",
        "output_layer = layers.Dense(NUM_CLASSES, activation='softmax')(flatten)\n",
        "\n",
        "model_InceptionV3 = models.Model(inputs=input_layer, outputs=output_layer)\n",
        "\n",
        "for layer in model_InceptionV3.layers[:1]:\n",
        "    layer.trainable = False\n",
        "\n",
        "\n",
        "model_InceptionV3.compile(optimizer='adam', loss='categorical_crossentropy', metrics=['accuracy'])\n",
        "\n",
        "from tensorflow import keras\n",
        "\n",
        "callback_list = [\n",
        "    keras.callbacks.ModelCheckpoint(\n",
        "        filepath = 'best_model.keras',\n",
        "        monitor = 'val_loss',\n",
        "        save_best_only = True,\n",
        "        verbose = 1\n",
        "    ),\n",
        "    keras.callbacks.EarlyStopping(\n",
        "        monitor='val_loss',\n",
        "        patience=5,\n",
        "        verbose=1\n",
        "    )\n",
        "]\n",
        "\n",
        "history_InceptionV3 = model_InceptionV3.fit(x_train, y_train,\n",
        "                    batch_size = BATCH_SIZE,\n",
        "                    validation_data = (x_val, y_val),\n",
        "                    callbacks = callback_list,\n",
        "                    epochs = EPOCHS\n",
        "                    )"
      ]
    },
    {
      "cell_type": "code",
      "source": [
        "get_classification_report(model_InceptionV3,x_train,y_train)"
      ],
      "metadata": {
        "colab": {
          "base_uri": "https://localhost:8080/"
        },
        "id": "F2mPHYoUdoym",
        "outputId": "c815aba2-3d68-43f3-c083-560137701f93"
      },
      "execution_count": null,
      "outputs": [
        {
          "output_type": "stream",
          "name": "stdout",
          "text": [
            "\u001b[1m27/27\u001b[0m \u001b[32m━━━━━━━━━━━━━━━━━━━━\u001b[0m\u001b[37m\u001b[0m \u001b[1m2s\u001b[0m 57ms/step\n",
            "Classification Report for model:                 precision    recall  f1-score   support\n",
            "\n",
            "        Blight       0.76      0.93      0.84       222\n",
            "   Common_Rust       1.00      0.87      0.93       267\n",
            "Gray_Leaf_Spot       0.80      0.69      0.74       115\n",
            "       Healthy       0.99      1.00      1.00       234\n",
            "\n",
            "      accuracy                           0.90       838\n",
            "     macro avg       0.89      0.87      0.88       838\n",
            "  weighted avg       0.91      0.90      0.90       838\n",
            "\n"
          ]
        }
      ]
    },
    {
      "cell_type": "code",
      "source": [
        "get_confisuon_matrix(model_InceptionV3,x_train,y_train)"
      ],
      "metadata": {
        "colab": {
          "base_uri": "https://localhost:8080/",
          "height": 728
        },
        "id": "L3E2Zgy9d9ll",
        "outputId": "39d280b3-e9ea-4c12-9ac0-f8679b2ccf8c"
      },
      "execution_count": null,
      "outputs": [
        {
          "output_type": "stream",
          "name": "stdout",
          "text": [
            "\u001b[1m27/27\u001b[0m \u001b[32m━━━━━━━━━━━━━━━━━━━━\u001b[0m\u001b[37m\u001b[0m \u001b[1m1s\u001b[0m 56ms/step\n",
            "Confusion Matrix for model: [[207   0  15   0]\n",
            " [ 29 232   5   1]\n",
            " [ 35   0  79   1]\n",
            " [  0   0   0 234]]\n"
          ]
        },
        {
          "output_type": "display_data",
          "data": {
            "text/plain": [
              "<Figure size 1000x700 with 2 Axes>"
            ],
            "image/png": "[encoded data removed]"
          },
          "metadata": {}
        }
      ]
    },
    {
      "cell_type": "code",
      "source": [
        "get_balanced_acc(model_InceptionV3,x_train,y_train)"
      ],
      "metadata": {
        "colab": {
          "base_uri": "https://localhost:8080/"
        },
        "id": "7AMCOKJbeAv1",
        "outputId": "f5897f31-536f-4915-e334-813686023c49"
      },
      "execution_count": null,
      "outputs": [
        {
          "output_type": "stream",
          "name": "stdout",
          "text": [
            "\u001b[1m27/27\u001b[0m \u001b[32m━━━━━━━━━━━━━━━━━━━━\u001b[0m\u001b[37m\u001b[0m \u001b[1m2s\u001b[0m 56ms/step\n",
            "Balanced Accuracy for model: 0.8720757029623664\n"
          ]
        }
      ]
    },
    {
      "cell_type": "code",
      "source": [
        "get_MCC(model_InceptionV3,x_train,y_train)"
      ],
      "metadata": {
        "colab": {
          "base_uri": "https://localhost:8080/"
        },
        "id": "GReNgCoqeDq1",
        "outputId": "c9b82488-d483-456e-d6e5-14ff04480b4d"
      },
      "execution_count": null,
      "outputs": [
        {
          "output_type": "stream",
          "name": "stdout",
          "text": [
            "\u001b[1m27/27\u001b[0m \u001b[32m━━━━━━━━━━━━━━━━━━━━\u001b[0m\u001b[37m\u001b[0m \u001b[1m2s\u001b[0m 57ms/step\n",
            "Matthews Correlation Coefficient (MCC) for model: 0.8629335704074362\n"
          ]
        }
      ]
    },
    {
      "cell_type": "code",
      "source": [
        "get_roc_auc(model_InceptionV3,x_train,y_train)"
      ],
      "metadata": {
        "colab": {
          "base_uri": "https://localhost:8080/"
        },
        "id": "DcpNXoyNeGGy",
        "outputId": "b7f528c8-e1cb-4336-e88b-fe93c4b9ec35"
      },
      "execution_count": null,
      "outputs": [
        {
          "output_type": "stream",
          "name": "stdout",
          "text": [
            "\u001b[1m27/27\u001b[0m \u001b[32m━━━━━━━━━━━━━━━━━━━━\u001b[0m\u001b[37m\u001b[0m \u001b[1m2s\u001b[0m 57ms/step\n",
            "ROC AUC Score (Multi-class) for model: 0.9848869126274303\n"
          ]
        }
      ]
    },
    {
      "cell_type": "markdown",
      "source": [
        "# VGG16 Transfer Learning"
      ],
      "metadata": {
        "id": "M0W02OpIfbwz"
      }
    },
    {
      "cell_type": "code",
      "source": [
        "from tensorflow.keras.applications import VGG16\n",
        "from tensorflow.keras import models, layers\n",
        "from tensorflow.keras.layers import  Flatten, Dense\n",
        "\n",
        "BATCH_SIZE = 32\n",
        "EPOCHS=20\n",
        "\n",
        "input_layer = layers.Input(shape=(IMG_SIZE,IMG_SIZE, 3))\n",
        "\n",
        "model_VGG16 = VGG16(weights='imagenet',\n",
        "                                      input_tensor=input_layer,\n",
        "                                      include_top=False\n",
        "                                      )\n",
        "\n",
        "last_layer = model_VGG16.output\n",
        "flatten = layers.Flatten()(last_layer)\n",
        "output_layer = layers.Dense(NUM_CLASSES, activation='softmax')(flatten)\n",
        "\n",
        "model_VGG16 = models.Model(inputs=input_layer, outputs=output_layer)\n",
        "\n",
        "for layer in model_VGG16.layers[:1]:\n",
        "    layer.trainable = False\n",
        "\n",
        "\n",
        "model_VGG16.compile(optimizer='adam', loss='categorical_crossentropy', metrics=['accuracy'])\n",
        "\n",
        "from tensorflow import keras\n",
        "\n",
        "callback_list = [\n",
        "    keras.callbacks.ModelCheckpoint(\n",
        "        filepath = 'best_model.keras',\n",
        "        monitor = 'val_loss',\n",
        "        save_best_only = True,\n",
        "        verbose = 1\n",
        "    ),\n",
        "    keras.callbacks.EarlyStopping(\n",
        "        monitor='val_loss',\n",
        "        patience=5,\n",
        "        verbose=1\n",
        "    )\n",
        "]\n",
        "\n",
        "history_VGG16 = model_VGG16.fit(x_train, y_train,\n",
        "                    batch_size = BATCH_SIZE,\n",
        "                    validation_data = (x_val, y_val),\n",
        "                    callbacks = callback_list,\n",
        "                    epochs = EPOCHS\n",
        "                    )"
      ],
      "metadata": {
        "colab": {
          "base_uri": "https://localhost:8080/"
        },
        "id": "D7qLZ0Hsfd6h",
        "outputId": "29d010e2-4df4-4bc8-cb2d-0e8243e0c4dc"
      },
      "execution_count": null,
      "outputs": [
        {
          "output_type": "stream",
          "name": "stdout",
          "text": [
            "Epoch 1/20\n",
            "\u001b[1m95/95\u001b[0m \u001b[32m━━━━━━━━━━━━━━━━━━━━\u001b[0m\u001b[37m\u001b[0m \u001b[1m0s\u001b[0m 603ms/step - accuracy: 0.2925 - loss: 1.8488\n",
            "Epoch 1: val_loss improved from inf to 1.31684, saving model to best_model.keras\n",
            "\u001b[1m95/95\u001b[0m \u001b[32m━━━━━━━━━━━━━━━━━━━━\u001b[0m\u001b[37m\u001b[0m \u001b[1m144s\u001b[0m 1s/step - accuracy: 0.2924 - loss: 1.8454 - val_accuracy: 0.3104 - val_loss: 1.3168\n",
            "Epoch 2/20\n",
            "\u001b[1m95/95\u001b[0m \u001b[32m━━━━━━━━━━━━━━━━━━━━\u001b[0m\u001b[37m\u001b[0m \u001b[1m0s\u001b[0m 449ms/step - accuracy: 0.5069 - loss: 1.0379\n",
            "Epoch 2: val_loss improved from 1.31684 to 0.64795, saving model to best_model.keras\n",
            "\u001b[1m95/95\u001b[0m \u001b[32m━━━━━━━━━━━━━━━━━━━━\u001b[0m\u001b[37m\u001b[0m \u001b[1m48s\u001b[0m 493ms/step - accuracy: 0.5079 - loss: 1.0366 - val_accuracy: 0.7612 - val_loss: 0.6479\n",
            "Epoch 3/20\n",
            "\u001b[1m95/95\u001b[0m \u001b[32m━━━━━━━━━━━━━━━━━━━━\u001b[0m\u001b[37m\u001b[0m \u001b[1m0s\u001b[0m 468ms/step - accuracy: 0.6998 - loss: 0.8292\n",
            "Epoch 3: val_loss improved from 0.64795 to 0.60650, saving model to best_model.keras\n",
            "\u001b[1m95/95\u001b[0m \u001b[32m━━━━━━━━━━━━━━━━━━━━\u001b[0m\u001b[37m\u001b[0m \u001b[1m88s\u001b[0m 553ms/step - accuracy: 0.6995 - loss: 0.8291 - val_accuracy: 0.7731 - val_loss: 0.6065\n",
            "Epoch 4/20\n",
            "\u001b[1m95/95\u001b[0m \u001b[32m━━━━━━━━━━━━━━━━━━━━\u001b[0m\u001b[37m\u001b[0m \u001b[1m0s\u001b[0m 455ms/step - accuracy: 0.7918 - loss: 0.5327\n",
            "Epoch 4: val_loss improved from 0.60650 to 0.56773, saving model to best_model.keras\n",
            "\u001b[1m95/95\u001b[0m \u001b[32m━━━━━━━━━━━━━━━━━━━━\u001b[0m\u001b[37m\u001b[0m \u001b[1m76s\u001b[0m 488ms/step - accuracy: 0.7919 - loss: 0.5324 - val_accuracy: 0.7940 - val_loss: 0.5677\n",
            "Epoch 5/20\n",
            "\u001b[1m95/95\u001b[0m \u001b[32m━━━━━━━━━━━━━━━━━━━━\u001b[0m\u001b[37m\u001b[0m \u001b[1m0s\u001b[0m 468ms/step - accuracy: 0.7942 - loss: 0.5048\n",
            "Epoch 5: val_loss did not improve from 0.56773\n",
            "\u001b[1m95/95\u001b[0m \u001b[32m━━━━━━━━━━━━━━━━━━━━\u001b[0m\u001b[37m\u001b[0m \u001b[1m83s\u001b[0m 496ms/step - accuracy: 0.7942 - loss: 0.5046 - val_accuracy: 0.7194 - val_loss: 0.5917\n",
            "Epoch 6/20\n",
            "\u001b[1m95/95\u001b[0m \u001b[32m━━━━━━━━━━━━━━━━━━━━\u001b[0m\u001b[37m\u001b[0m \u001b[1m0s\u001b[0m 456ms/step - accuracy: 0.7927 - loss: 0.5011\n",
            "Epoch 6: val_loss improved from 0.56773 to 0.49673, saving model to best_model.keras\n",
            "\u001b[1m95/95\u001b[0m \u001b[32m━━━━━━━━━━━━━━━━━━━━\u001b[0m\u001b[37m\u001b[0m \u001b[1m84s\u001b[0m 515ms/step - accuracy: 0.7929 - loss: 0.5007 - val_accuracy: 0.7522 - val_loss: 0.4967\n",
            "Epoch 7/20\n",
            "\u001b[1m95/95\u001b[0m \u001b[32m━━━━━━━━━━━━━━━━━━━━\u001b[0m\u001b[37m\u001b[0m \u001b[1m0s\u001b[0m 464ms/step - accuracy: 0.8090 - loss: 0.4399\n",
            "Epoch 7: val_loss did not improve from 0.49673\n",
            "\u001b[1m95/95\u001b[0m \u001b[32m━━━━━━━━━━━━━━━━━━━━\u001b[0m\u001b[37m\u001b[0m \u001b[1m45s\u001b[0m 478ms/step - accuracy: 0.8092 - loss: 0.4396 - val_accuracy: 0.8030 - val_loss: 0.5949\n",
            "Epoch 8/20\n",
            "\u001b[1m95/95\u001b[0m \u001b[32m━━━━━━━━━━━━━━━━━━━━\u001b[0m\u001b[37m\u001b[0m \u001b[1m0s\u001b[0m 466ms/step - accuracy: 0.8272 - loss: 0.3901\n",
            "Epoch 8: val_loss improved from 0.49673 to 0.43527, saving model to best_model.keras\n",
            "\u001b[1m95/95\u001b[0m \u001b[32m━━━━━━━━━━━━━━━━━━━━\u001b[0m\u001b[37m\u001b[0m \u001b[1m90s\u001b[0m 564ms/step - accuracy: 0.8272 - loss: 0.3906 - val_accuracy: 0.8388 - val_loss: 0.4353\n",
            "Epoch 9/20\n",
            "\u001b[1m95/95\u001b[0m \u001b[32m━━━━━━━━━━━━━━━━━━━━\u001b[0m\u001b[37m\u001b[0m \u001b[1m0s\u001b[0m 464ms/step - accuracy: 0.8258 - loss: 0.4080\n",
            "Epoch 9: val_loss improved from 0.43527 to 0.40912, saving model to best_model.keras\n",
            "\u001b[1m95/95\u001b[0m \u001b[32m━━━━━━━━━━━━━━━━━━━━\u001b[0m\u001b[37m\u001b[0m \u001b[1m80s\u001b[0m 543ms/step - accuracy: 0.8260 - loss: 0.4076 - val_accuracy: 0.8537 - val_loss: 0.4091\n",
            "Epoch 10/20\n",
            "\u001b[1m95/95\u001b[0m \u001b[32m━━━━━━━━━━━━━━━━━━━━\u001b[0m\u001b[37m\u001b[0m \u001b[1m0s\u001b[0m 459ms/step - accuracy: 0.8927 - loss: 0.2880\n",
            "Epoch 10: val_loss did not improve from 0.40912\n",
            "\u001b[1m95/95\u001b[0m \u001b[32m━━━━━━━━━━━━━━━━━━━━\u001b[0m\u001b[37m\u001b[0m \u001b[1m45s\u001b[0m 473ms/step - accuracy: 0.8927 - loss: 0.2880 - val_accuracy: 0.8269 - val_loss: 0.5711\n",
            "Epoch 11/20\n",
            "\u001b[1m95/95\u001b[0m \u001b[32m━━━━━━━━━━━━━━━━━━━━\u001b[0m\u001b[37m\u001b[0m \u001b[1m0s\u001b[0m 462ms/step - accuracy: 0.8654 - loss: 0.4389\n",
            "Epoch 11: val_loss did not improve from 0.40912\n",
            "\u001b[1m95/95\u001b[0m \u001b[32m━━━━━━━━━━━━━━━━━━━━\u001b[0m\u001b[37m\u001b[0m \u001b[1m83s\u001b[0m 489ms/step - accuracy: 0.8649 - loss: 0.4427 - val_accuracy: 0.5910 - val_loss: 1.6912\n",
            "Epoch 12/20\n",
            "\u001b[1m95/95\u001b[0m \u001b[32m━━━━━━━━━━━━━━━━━━━━\u001b[0m\u001b[37m\u001b[0m \u001b[1m0s\u001b[0m 466ms/step - accuracy: 0.7683 - loss: 0.6289\n",
            "Epoch 12: val_loss improved from 0.40912 to 0.39377, saving model to best_model.keras\n",
            "\u001b[1m95/95\u001b[0m \u001b[32m━━━━━━━━━━━━━━━━━━━━\u001b[0m\u001b[37m\u001b[0m \u001b[1m88s\u001b[0m 559ms/step - accuracy: 0.7687 - loss: 0.6274 - val_accuracy: 0.8299 - val_loss: 0.3938\n",
            "Epoch 13/20\n",
            "\u001b[1m95/95\u001b[0m \u001b[32m━━━━━━━━━━━━━━━━━━━━\u001b[0m\u001b[37m\u001b[0m \u001b[1m0s\u001b[0m 456ms/step - accuracy: 0.8370 - loss: 0.4273\n",
            "Epoch 13: val_loss improved from 0.39377 to 0.39320, saving model to best_model.keras\n",
            "\u001b[1m95/95\u001b[0m \u001b[32m━━━━━━━━━━━━━━━━━━━━\u001b[0m\u001b[37m\u001b[0m \u001b[1m50s\u001b[0m 524ms/step - accuracy: 0.8370 - loss: 0.4268 - val_accuracy: 0.8269 - val_loss: 0.3932\n",
            "Epoch 14/20\n",
            "\u001b[1m95/95\u001b[0m \u001b[32m━━━━━━━━━━━━━━━━━━━━\u001b[0m\u001b[37m\u001b[0m \u001b[1m0s\u001b[0m 467ms/step - accuracy: 0.8694 - loss: 0.3065\n",
            "Epoch 14: val_loss improved from 0.39320 to 0.31162, saving model to best_model.keras\n",
            "\u001b[1m95/95\u001b[0m \u001b[32m━━━━━━━━━━━━━━━━━━━━\u001b[0m\u001b[37m\u001b[0m \u001b[1m88s\u001b[0m 585ms/step - accuracy: 0.8694 - loss: 0.3065 - val_accuracy: 0.8806 - val_loss: 0.3116\n",
            "Epoch 15/20\n",
            "\u001b[1m95/95\u001b[0m \u001b[32m━━━━━━━━━━━━━━━━━━━━\u001b[0m\u001b[37m\u001b[0m \u001b[1m0s\u001b[0m 460ms/step - accuracy: 0.8968 - loss: 0.2492\n",
            "Epoch 15: val_loss improved from 0.31162 to 0.29913, saving model to best_model.keras\n",
            "\u001b[1m95/95\u001b[0m \u001b[32m━━━━━━━━━━━━━━━━━━━━\u001b[0m\u001b[37m\u001b[0m \u001b[1m50s\u001b[0m 528ms/step - accuracy: 0.8968 - loss: 0.2493 - val_accuracy: 0.9075 - val_loss: 0.2991\n",
            "Epoch 16/20\n",
            "\u001b[1m95/95\u001b[0m \u001b[32m━━━━━━━━━━━━━━━━━━━━\u001b[0m\u001b[37m\u001b[0m \u001b[1m0s\u001b[0m 460ms/step - accuracy: 0.9061 - loss: 0.2337\n",
            "Epoch 16: val_loss did not improve from 0.29913\n",
            "\u001b[1m95/95\u001b[0m \u001b[32m━━━━━━━━━━━━━━━━━━━━\u001b[0m\u001b[37m\u001b[0m \u001b[1m45s\u001b[0m 474ms/step - accuracy: 0.9060 - loss: 0.2339 - val_accuracy: 0.8866 - val_loss: 0.3268\n",
            "Epoch 17/20\n",
            "\u001b[1m95/95\u001b[0m \u001b[32m━━━━━━━━━━━━━━━━━━━━\u001b[0m\u001b[37m\u001b[0m \u001b[1m0s\u001b[0m 466ms/step - accuracy: 0.9059 - loss: 0.2252\n",
            "Epoch 17: val_loss improved from 0.29913 to 0.28692, saving model to best_model.keras\n",
            "\u001b[1m95/95\u001b[0m \u001b[32m━━━━━━━━━━━━━━━━━━━━\u001b[0m\u001b[37m\u001b[0m \u001b[1m88s\u001b[0m 535ms/step - accuracy: 0.9059 - loss: 0.2252 - val_accuracy: 0.9134 - val_loss: 0.2869\n",
            "Epoch 18/20\n",
            "\u001b[1m95/95\u001b[0m \u001b[32m━━━━━━━━━━━━━━━━━━━━\u001b[0m\u001b[37m\u001b[0m \u001b[1m0s\u001b[0m 464ms/step - accuracy: 0.9191 - loss: 0.2085\n",
            "Epoch 18: val_loss did not improve from 0.28692\n",
            "\u001b[1m95/95\u001b[0m \u001b[32m━━━━━━━━━━━━━━━━━━━━\u001b[0m\u001b[37m\u001b[0m \u001b[1m77s\u001b[0m 478ms/step - accuracy: 0.9190 - loss: 0.2087 - val_accuracy: 0.8866 - val_loss: 0.3187\n",
            "Epoch 19/20\n",
            "\u001b[1m95/95\u001b[0m \u001b[32m━━━━━━━━━━━━━━━━━━━━\u001b[0m\u001b[37m\u001b[0m \u001b[1m0s\u001b[0m 469ms/step - accuracy: 0.9216 - loss: 0.1811\n",
            "Epoch 19: val_loss did not improve from 0.28692\n",
            "\u001b[1m95/95\u001b[0m \u001b[32m━━━━━━━━━━━━━━━━━━━━\u001b[0m\u001b[37m\u001b[0m \u001b[1m82s\u001b[0m 483ms/step - accuracy: 0.9216 - loss: 0.1812 - val_accuracy: 0.9134 - val_loss: 0.3293\n",
            "Epoch 20/20\n",
            "\u001b[1m95/95\u001b[0m \u001b[32m━━━━━━━━━━━━━━━━━━━━\u001b[0m\u001b[37m\u001b[0m \u001b[1m0s\u001b[0m 461ms/step - accuracy: 0.9299 - loss: 0.1601\n",
            "Epoch 20: val_loss did not improve from 0.28692\n",
            "\u001b[1m95/95\u001b[0m \u001b[32m━━━━━━━━━━━━━━━━━━━━\u001b[0m\u001b[37m\u001b[0m \u001b[1m81s\u001b[0m 475ms/step - accuracy: 0.9300 - loss: 0.1602 - val_accuracy: 0.8836 - val_loss: 0.3297\n"
          ]
        }
      ]
    },
    {
      "cell_type": "code",
      "source": [
        "print(\"#######################################################\")\n",
        "get_classification_report(model_VGG16,x_train,y_train)\n",
        "print(\"#######################################################\")\n",
        "get_confisuon_matrix(model_VGG16,x_train,y_train)\n",
        "print(\"#######################################################\")\n",
        "get_balanced_acc(model_VGG16,x_train,y_train)\n",
        "print(\"#######################################################\")\n",
        "get_MCC(model_VGG16,x_train,y_train)\n",
        "print(\"#######################################################\")\n",
        "get_roc_auc(model_VGG16,x_train,y_train)"
      ],
      "metadata": {
        "colab": {
          "base_uri": "https://localhost:8080/",
          "height": 1000
        },
        "id": "DYSNmCdVnDuJ",
        "outputId": "e5508d93-340f-4a38-fda0-d22d06532aaa"
      },
      "execution_count": null,
      "outputs": [
        {
          "output_type": "stream",
          "name": "stdout",
          "text": [
            "#######################################################\n",
            "\u001b[1m27/27\u001b[0m \u001b[32m━━━━━━━━━━━━━━━━━━━━\u001b[0m\u001b[37m\u001b[0m \u001b[1m3s\u001b[0m 110ms/step\n",
            "Classification Report for model:\n",
            "                 precision    recall  f1-score   support\n",
            "\n",
            "        Blight       0.88      0.86      0.87       222\n",
            "   Common_Rust       0.99      0.92      0.95       267\n",
            "Gray_Leaf_Spot       0.75      0.85      0.80       115\n",
            "       Healthy       0.96      1.00      0.98       234\n",
            "\n",
            "      accuracy                           0.92       838\n",
            "     macro avg       0.90      0.91      0.90       838\n",
            "  weighted avg       0.92      0.92      0.92       838\n",
            "\n",
            "#######################################################\n",
            "\u001b[1m27/27\u001b[0m \u001b[32m━━━━━━━━━━━━━━━━━━━━\u001b[0m\u001b[37m\u001b[0m \u001b[1m3s\u001b[0m 108ms/step\n",
            "Confusion Matrix for model: \n",
            "[[192   2  27   1]\n",
            " [ 11 245   5   6]\n",
            " [ 14   1  98   2]\n",
            " [  0   0   0 234]]\n"
          ]
        },
        {
          "output_type": "display_data",
          "data": {
            "text/plain": [
              "<Figure size 1000x700 with 2 Axes>"
            ],
            "image/png": "[encoded data removed]"
          },
          "metadata": {}
        },
        {
          "output_type": "stream",
          "name": "stdout",
          "text": [
            "#######################################################\n",
            "\u001b[1m27/27\u001b[0m \u001b[32m━━━━━━━━━━━━━━━━━━━━\u001b[0m\u001b[37m\u001b[0m \u001b[1m3s\u001b[0m 111ms/step\n",
            "Balanced Accuracy for model: 0.9086604435407561\n",
            "#######################################################\n",
            "\u001b[1m27/27\u001b[0m \u001b[32m━━━━━━━━━━━━━━━━━━━━\u001b[0m\u001b[37m\u001b[0m \u001b[1m3s\u001b[0m 111ms/step\n",
            "Matthews Correlation Coefficient (MCC) for model: 0.8885534631958321\n",
            "#######################################################\n",
            "\u001b[1m27/27\u001b[0m \u001b[32m━━━━━━━━━━━━━━━━━━━━\u001b[0m\u001b[37m\u001b[0m \u001b[1m3s\u001b[0m 112ms/step\n",
            "ROC AUC Score (Multi-class) for model: 0.9889778928904362\n"
          ]
        }
      ]
    },
    {
      "cell_type": "markdown",
      "source": [
        "# VGG19 Transfer Learning"
      ],
      "metadata": {
        "id": "nhbALW2irScx"
      }
    },
    {
      "cell_type": "code",
      "source": [
        "from tensorflow.keras.applications import VGG19\n",
        "from tensorflow.keras import models, layers\n",
        "from tensorflow.keras.layers import  Flatten, Dense\n",
        "\n",
        "BATCH_SIZE = 32\n",
        "EPOCHS=20\n",
        "\n",
        "input_layer = layers.Input(shape=(IMG_SIZE,IMG_SIZE, 3))\n",
        "\n",
        "model_VGG19 = VGG19(weights='imagenet',\n",
        "                                      input_tensor=input_layer,\n",
        "                                      include_top=False\n",
        "                                      )\n",
        "\n",
        "last_layer = model_VGG19.output\n",
        "flatten = layers.Flatten()(last_layer)\n",
        "output_layer = layers.Dense(NUM_CLASSES, activation='softmax')(flatten)\n",
        "\n",
        "model_VGG19 = models.Model(inputs=input_layer, outputs=output_layer)\n",
        "\n",
        "for layer in model_VGG19.layers[:1]:\n",
        "    layer.trainable = False\n",
        "\n",
        "\n",
        "model_VGG19.compile(optimizer='adam', loss='categorical_crossentropy', metrics=['accuracy'])\n",
        "\n",
        "from tensorflow import keras\n",
        "\n",
        "callback_list = [\n",
        "    keras.callbacks.ModelCheckpoint(\n",
        "        filepath = 'best_model.keras',\n",
        "        monitor = 'val_loss',\n",
        "        save_best_only = True,\n",
        "        verbose = 1\n",
        "    ),\n",
        "    keras.callbacks.EarlyStopping(\n",
        "        monitor='val_loss',\n",
        "        patience=5,\n",
        "        verbose=1\n",
        "    )\n",
        "]\n",
        "\n",
        "history_VGG19 = model_VGG19.fit(x_train, y_train,\n",
        "                    batch_size = BATCH_SIZE,\n",
        "                    validation_data = (x_val, y_val),\n",
        "                    callbacks = callback_list,\n",
        "                    epochs = EPOCHS\n",
        "                    )"
      ],
      "metadata": {
        "colab": {
          "base_uri": "https://localhost:8080/"
        },
        "id": "GVneiEfOrV7q",
        "outputId": "8220e61e-65bf-4ef6-fae2-20fcfdb1287a"
      },
      "execution_count": null,
      "outputs": [
        {
          "output_type": "stream",
          "name": "stdout",
          "text": [
            "Downloading data from https://storage.googleapis.com/tensorflow/keras-applications/vgg19/vgg19_weights_tf_dim_ordering_tf_kernels_notop.h5\n",
            "\u001b[1m80134624/80134624\u001b[0m \u001b[32m━━━━━━━━━━━━━━━━━━━━\u001b[0m\u001b[37m\u001b[0m \u001b[1m1s\u001b[0m 0us/step\n",
            "Epoch 1/20\n",
            "\u001b[1m95/95\u001b[0m \u001b[32m━━━━━━━━━━━━━━━━━━━━\u001b[0m\u001b[37m\u001b[0m \u001b[1m0s\u001b[0m 584ms/step - accuracy: 0.2838 - loss: 10.9166\n",
            "Epoch 1: val_loss improved from inf to 1.34900, saving model to best_model.keras\n",
            "\u001b[1m95/95\u001b[0m \u001b[32m━━━━━━━━━━━━━━━━━━━━\u001b[0m\u001b[37m\u001b[0m \u001b[1m70s\u001b[0m 661ms/step - accuracy: 0.2838 - loss: 10.8415 - val_accuracy: 0.3343 - val_loss: 1.3490\n",
            "Epoch 2/20\n",
            "\u001b[1m95/95\u001b[0m \u001b[32m━━━━━━━━━━━━━━━━━━━━\u001b[0m\u001b[37m\u001b[0m \u001b[1m0s\u001b[0m 547ms/step - accuracy: 0.3107 - loss: 1.3542\n",
            "Epoch 2: val_loss did not improve from 1.34900\n",
            "\u001b[1m95/95\u001b[0m \u001b[32m━━━━━━━━━━━━━━━━━━━━\u001b[0m\u001b[37m\u001b[0m \u001b[1m71s\u001b[0m 575ms/step - accuracy: 0.3107 - loss: 1.3542 - val_accuracy: 0.2239 - val_loss: 1.3529\n",
            "Epoch 3/20\n",
            "\u001b[1m95/95\u001b[0m \u001b[32m━━━━━━━━━━━━━━━━━━━━\u001b[0m\u001b[37m\u001b[0m \u001b[1m0s\u001b[0m 565ms/step - accuracy: 0.3021 - loss: 1.3506\n",
            "Epoch 3: val_loss improved from 1.34900 to 1.33856, saving model to best_model.keras\n",
            "\u001b[1m95/95\u001b[0m \u001b[32m━━━━━━━━━━━━━━━━━━━━\u001b[0m\u001b[37m\u001b[0m \u001b[1m84s\u001b[0m 596ms/step - accuracy: 0.3020 - loss: 1.3506 - val_accuracy: 0.3343 - val_loss: 1.3386\n",
            "Epoch 4/20\n",
            "\u001b[1m95/95\u001b[0m \u001b[32m━━━━━━━━━━━━━━━━━━━━\u001b[0m\u001b[37m\u001b[0m \u001b[1m0s\u001b[0m 549ms/step - accuracy: 0.2960 - loss: 1.3505\n",
            "Epoch 4: val_loss did not improve from 1.33856\n",
            "\u001b[1m95/95\u001b[0m \u001b[32m━━━━━━━━━━━━━━━━━━━━\u001b[0m\u001b[37m\u001b[0m \u001b[1m79s\u001b[0m 566ms/step - accuracy: 0.2961 - loss: 1.3506 - val_accuracy: 0.3343 - val_loss: 1.3704\n",
            "Epoch 5/20\n",
            "\u001b[1m95/95\u001b[0m \u001b[32m━━━━━━━━━━━━━━━━━━━━\u001b[0m\u001b[37m\u001b[0m \u001b[1m0s\u001b[0m 543ms/step - accuracy: 0.3174 - loss: 1.3695\n",
            "Epoch 5: val_loss did not improve from 1.33856\n",
            "\u001b[1m95/95\u001b[0m \u001b[32m━━━━━━━━━━━━━━━━━━━━\u001b[0m\u001b[37m\u001b[0m \u001b[1m53s\u001b[0m 560ms/step - accuracy: 0.3173 - loss: 1.3695 - val_accuracy: 0.3343 - val_loss: 1.3606\n",
            "Epoch 6/20\n",
            "\u001b[1m95/95\u001b[0m \u001b[32m━━━━━━━━━━━━━━━━━━━━\u001b[0m\u001b[37m\u001b[0m \u001b[1m0s\u001b[0m 551ms/step - accuracy: 0.3141 - loss: 1.3620\n",
            "Epoch 6: val_loss did not improve from 1.33856\n",
            "\u001b[1m95/95\u001b[0m \u001b[32m━━━━━━━━━━━━━━━━━━━━\u001b[0m\u001b[37m\u001b[0m \u001b[1m83s\u001b[0m 567ms/step - accuracy: 0.3141 - loss: 1.3620 - val_accuracy: 0.3343 - val_loss: 1.3544\n",
            "Epoch 7/20\n",
            "\u001b[1m95/95\u001b[0m \u001b[32m━━━━━━━━━━━━━━━━━━━━\u001b[0m\u001b[37m\u001b[0m \u001b[1m0s\u001b[0m 550ms/step - accuracy: 0.3007 - loss: 1.3555\n",
            "Epoch 7: val_loss did not improve from 1.33856\n",
            "\u001b[1m95/95\u001b[0m \u001b[32m━━━━━━━━━━━━━━━━━━━━\u001b[0m\u001b[37m\u001b[0m \u001b[1m82s\u001b[0m 566ms/step - accuracy: 0.3008 - loss: 1.3555 - val_accuracy: 0.3343 - val_loss: 1.3505\n",
            "Epoch 8/20\n",
            "\u001b[1m95/95\u001b[0m \u001b[32m━━━━━━━━━━━━━━━━━━━━\u001b[0m\u001b[37m\u001b[0m \u001b[1m0s\u001b[0m 542ms/step - accuracy: 0.3103 - loss: 1.3518\n",
            "Epoch 8: val_loss did not improve from 1.33856\n",
            "\u001b[1m95/95\u001b[0m \u001b[32m━━━━━━━━━━━━━━━━━━━━\u001b[0m\u001b[37m\u001b[0m \u001b[1m53s\u001b[0m 559ms/step - accuracy: 0.3103 - loss: 1.3518 - val_accuracy: 0.3343 - val_loss: 1.3477\n",
            "Epoch 8: early stopping\n"
          ]
        }
      ]
    },
    {
      "cell_type": "code",
      "source": [
        "print(\"#######################################################\")\n",
        "get_classification_report(model_VGG19,x_train,y_train)\n",
        "print(\"#######################################################\")\n",
        "get_confisuon_matrix(model_VGG19,x_train,y_train)\n",
        "print(\"#######################################################\")\n",
        "get_balanced_acc(model_VGG19,x_train,y_train)\n",
        "print(\"#######################################################\")\n",
        "get_MCC(model_VGG19,x_train,y_train)\n",
        "print(\"#######################################################\")\n",
        "get_roc_auc(model_VGG19,x_train,y_train)"
      ],
      "metadata": {
        "colab": {
          "base_uri": "https://localhost:8080/",
          "height": 1000
        },
        "id": "lJjMt4ZJt_y3",
        "outputId": "9fdfd459-13da-400e-932e-be8e36742571"
      },
      "execution_count": null,
      "outputs": [
        {
          "output_type": "stream",
          "name": "stdout",
          "text": [
            "#######################################################\n",
            "\u001b[1m27/27\u001b[0m \u001b[32m━━━━━━━━━━━━━━━━━━━━\u001b[0m\u001b[37m\u001b[0m \u001b[1m5s\u001b[0m 165ms/step\n",
            "Classification Report for model:\n",
            "                 precision    recall  f1-score   support\n",
            "\n",
            "        Blight       0.00      0.00      0.00       222\n",
            "   Common_Rust       0.32      1.00      0.48       267\n",
            "Gray_Leaf_Spot       0.00      0.00      0.00       115\n",
            "       Healthy       0.00      0.00      0.00       234\n",
            "\n",
            "      accuracy                           0.32       838\n",
            "     macro avg       0.08      0.25      0.12       838\n",
            "  weighted avg       0.10      0.32      0.15       838\n",
            "\n",
            "#######################################################\n"
          ]
        },
        {
          "output_type": "stream",
          "name": "stderr",
          "text": [
            "/usr/local/lib/python3.10/dist-packages/sklearn/metrics/_classification.py:1531: UndefinedMetricWarning: Precision is ill-defined and being set to 0.0 in labels with no predicted samples. Use `zero_division` parameter to control this behavior.\n",
            "  _warn_prf(average, modifier, f\"{metric.capitalize()} is\", len(result))\n",
            "/usr/local/lib/python3.10/dist-packages/sklearn/metrics/_classification.py:1531: UndefinedMetricWarning: Precision is ill-defined and being set to 0.0 in labels with no predicted samples. Use `zero_division` parameter to control this behavior.\n",
            "  _warn_prf(average, modifier, f\"{metric.capitalize()} is\", len(result))\n",
            "/usr/local/lib/python3.10/dist-packages/sklearn/metrics/_classification.py:1531: UndefinedMetricWarning: Precision is ill-defined and being set to 0.0 in labels with no predicted samples. Use `zero_division` parameter to control this behavior.\n",
            "  _warn_prf(average, modifier, f\"{metric.capitalize()} is\", len(result))\n"
          ]
        },
        {
          "output_type": "stream",
          "name": "stdout",
          "text": [
            "\u001b[1m27/27\u001b[0m \u001b[32m━━━━━━━━━━━━━━━━━━━━\u001b[0m\u001b[37m\u001b[0m \u001b[1m4s\u001b[0m 145ms/step\n",
            "Confusion Matrix for model: \n",
            "[[  0 222   0   0]\n",
            " [  0 267   0   0]\n",
            " [  0 115   0   0]\n",
            " [  0 234   0   0]]\n"
          ]
        },
        {
          "output_type": "display_data",
          "data": {
            "text/plain": [
              "<Figure size 1000x700 with 2 Axes>"
            ],
            "image/png": "[encoded data removed]"
          },
          "metadata": {}
        },
        {
          "output_type": "stream",
          "name": "stdout",
          "text": [
            "#######################################################\n",
            "\u001b[1m27/27\u001b[0m \u001b[32m━━━━━━━━━━━━━━━━━━━━\u001b[0m\u001b[37m\u001b[0m \u001b[1m4s\u001b[0m 148ms/step\n",
            "Balanced Accuracy for model: 0.25\n",
            "#######################################################\n",
            "\u001b[1m27/27\u001b[0m \u001b[32m━━━━━━━━━━━━━━━━━━━━\u001b[0m\u001b[37m\u001b[0m \u001b[1m4s\u001b[0m 149ms/step\n",
            "Matthews Correlation Coefficient (MCC) for model: 0.0\n",
            "#######################################################\n",
            "\u001b[1m27/27\u001b[0m \u001b[32m━━━━━━━━━━━━━━━━━━━━\u001b[0m\u001b[37m\u001b[0m \u001b[1m4s\u001b[0m 150ms/step\n",
            "ROC AUC Score (Multi-class) for model: 0.5\n"
          ]
        }
      ]
    }
  ],
  "metadata": {
    "colab": {
      "provenance": [],
      "collapsed_sections": [
        "xb1TX6lkUrrW",
        "u1E6m8WXVgCB"
      ],
      "gpuType": "T4"
    },
    "kernelspec": {
      "display_name": "Python 3",
      "name": "python3"
    },
    "language_info": {
      "name": "python"
    },
    "accelerator": "GPU"
  },
  "nbformat": 4,
  "nbformat_minor": 0
}